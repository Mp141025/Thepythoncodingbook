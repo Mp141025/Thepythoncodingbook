{
 "cells": [
  {
   "cell_type": "code",
   "execution_count": 1,
   "id": "196866f1",
   "metadata": {},
   "outputs": [],
   "source": [
    "import datetime\n"
   ]
  },
  {
   "cell_type": "code",
   "execution_count": 2,
   "id": "16d28e55",
   "metadata": {},
   "outputs": [],
   "source": [
    "t=datetime.datetime.now()"
   ]
  },
  {
   "cell_type": "code",
   "execution_count": 3,
   "id": "a0b8f152",
   "metadata": {},
   "outputs": [
    {
     "data": {
      "text/plain": [
       "datetime.datetime(2022, 1, 18, 22, 55, 12, 254827)"
      ]
     },
     "execution_count": 3,
     "metadata": {},
     "output_type": "execute_result"
    }
   ],
   "source": [
    "t"
   ]
  },
  {
   "cell_type": "code",
   "execution_count": 4,
   "id": "0acaf688",
   "metadata": {},
   "outputs": [
    {
     "data": {
      "text/plain": [
       "datetime.datetime"
      ]
     },
     "execution_count": 4,
     "metadata": {},
     "output_type": "execute_result"
    }
   ],
   "source": [
    "type(t)"
   ]
  },
  {
   "cell_type": "code",
   "execution_count": 5,
   "id": "af45bcd0",
   "metadata": {},
   "outputs": [
    {
     "data": {
      "text/plain": [
       "2022"
      ]
     },
     "execution_count": 5,
     "metadata": {},
     "output_type": "execute_result"
    }
   ],
   "source": [
    "t.year"
   ]
  },
  {
   "cell_type": "code",
   "execution_count": 6,
   "id": "77c2afc1",
   "metadata": {},
   "outputs": [
    {
     "data": {
      "text/plain": [
       "1"
      ]
     },
     "execution_count": 6,
     "metadata": {},
     "output_type": "execute_result"
    }
   ],
   "source": [
    "t.month"
   ]
  },
  {
   "cell_type": "code",
   "execution_count": 7,
   "id": "355c604f",
   "metadata": {},
   "outputs": [
    {
     "data": {
      "text/plain": [
       "18"
      ]
     },
     "execution_count": 7,
     "metadata": {},
     "output_type": "execute_result"
    }
   ],
   "source": [
    "t.day\n"
   ]
  },
  {
   "cell_type": "code",
   "execution_count": 8,
   "id": "4852b8dd",
   "metadata": {},
   "outputs": [
    {
     "data": {
      "text/plain": [
       "<function datetime.date>"
      ]
     },
     "execution_count": 8,
     "metadata": {},
     "output_type": "execute_result"
    }
   ],
   "source": [
    "t.date"
   ]
  },
  {
   "cell_type": "code",
   "execution_count": 9,
   "id": "1145e0d9",
   "metadata": {},
   "outputs": [],
   "source": [
    "f=t.date"
   ]
  },
  {
   "cell_type": "code",
   "execution_count": 10,
   "id": "efcef928",
   "metadata": {},
   "outputs": [
    {
     "data": {
      "text/plain": [
       "<function datetime.date>"
      ]
     },
     "execution_count": 10,
     "metadata": {},
     "output_type": "execute_result"
    }
   ],
   "source": [
    "f"
   ]
  },
  {
   "cell_type": "code",
   "execution_count": 11,
   "id": "fcefd2dd",
   "metadata": {},
   "outputs": [
    {
     "data": {
      "text/plain": [
       "1"
      ]
     },
     "execution_count": 11,
     "metadata": {},
     "output_type": "execute_result"
    }
   ],
   "source": [
    "t.weekday()"
   ]
  },
  {
   "cell_type": "code",
   "execution_count": 12,
   "id": "ac9184af",
   "metadata": {},
   "outputs": [
    {
     "data": {
      "text/plain": [
       "2"
      ]
     },
     "execution_count": 12,
     "metadata": {},
     "output_type": "execute_result"
    }
   ],
   "source": [
    "t.isoweekday()"
   ]
  },
  {
   "cell_type": "code",
   "execution_count": 13,
   "id": "649206bc",
   "metadata": {},
   "outputs": [
    {
     "data": {
      "text/plain": [
       "<function datetime.isoformat>"
      ]
     },
     "execution_count": 13,
     "metadata": {},
     "output_type": "execute_result"
    }
   ],
   "source": [
    "t.isoformat\n"
   ]
  },
  {
   "cell_type": "code",
   "execution_count": 14,
   "id": "95527122",
   "metadata": {},
   "outputs": [
    {
     "data": {
      "text/plain": [
       "'2022-01-18T22:55:12.254827'"
      ]
     },
     "execution_count": 14,
     "metadata": {},
     "output_type": "execute_result"
    }
   ],
   "source": [
    "t.isoformat()    "
   ]
  },
  {
   "cell_type": "code",
   "execution_count": 15,
   "id": "094bc154",
   "metadata": {},
   "outputs": [
    {
     "data": {
      "text/plain": [
       "12"
      ]
     },
     "execution_count": 15,
     "metadata": {},
     "output_type": "execute_result"
    }
   ],
   "source": [
    "t.second"
   ]
  },
  {
   "cell_type": "code",
   "execution_count": 16,
   "id": "e3fd5671",
   "metadata": {},
   "outputs": [
    {
     "data": {
      "text/plain": [
       "254827"
      ]
     },
     "execution_count": 16,
     "metadata": {},
     "output_type": "execute_result"
    }
   ],
   "source": [
    "t.microsecond"
   ]
  },
  {
   "cell_type": "code",
   "execution_count": 17,
   "id": "fc72f331",
   "metadata": {},
   "outputs": [
    {
     "data": {
      "text/plain": [
       "datetime.datetime(2022, 1, 18, 22, 55, 12, 480500)"
      ]
     },
     "execution_count": 17,
     "metadata": {},
     "output_type": "execute_result"
    }
   ],
   "source": [
    "dt=datetime.datetime.now()\n",
    "dt"
   ]
  },
  {
   "cell_type": "code",
   "execution_count": 18,
   "id": "6e344855",
   "metadata": {},
   "outputs": [],
   "source": [
    "gap=dt-t"
   ]
  },
  {
   "cell_type": "code",
   "execution_count": 19,
   "id": "78871773",
   "metadata": {},
   "outputs": [
    {
     "data": {
      "text/plain": [
       "datetime.timedelta(microseconds=225673)"
      ]
     },
     "execution_count": 19,
     "metadata": {},
     "output_type": "execute_result"
    }
   ],
   "source": [
    "gap"
   ]
  },
  {
   "cell_type": "code",
   "execution_count": 20,
   "id": "9f027f05",
   "metadata": {},
   "outputs": [
    {
     "data": {
      "text/plain": [
       "True"
      ]
     },
     "execution_count": 20,
     "metadata": {},
     "output_type": "execute_result"
    }
   ],
   "source": [
    "dt>t"
   ]
  },
  {
   "cell_type": "code",
   "execution_count": 21,
   "id": "18817bb8",
   "metadata": {},
   "outputs": [
    {
     "data": {
      "text/plain": [
       "False"
      ]
     },
     "execution_count": 21,
     "metadata": {},
     "output_type": "execute_result"
    }
   ],
   "source": [
    "t>dt"
   ]
  },
  {
   "cell_type": "code",
   "execution_count": 22,
   "id": "d33ed1db",
   "metadata": {},
   "outputs": [
    {
     "data": {
      "text/plain": [
       "0"
      ]
     },
     "execution_count": 22,
     "metadata": {},
     "output_type": "execute_result"
    }
   ],
   "source": [
    "gap.seconds ####extract just one of the relevant values"
   ]
  },
  {
   "cell_type": "code",
   "execution_count": 23,
   "id": "6ffc0ca6",
   "metadata": {},
   "outputs": [
    {
     "data": {
      "text/plain": [
       "225673"
      ]
     },
     "execution_count": 23,
     "metadata": {},
     "output_type": "execute_result"
    }
   ],
   "source": [
    "gap.microseconds"
   ]
  },
  {
   "cell_type": "code",
   "execution_count": 24,
   "id": "2b5ace7f",
   "metadata": {},
   "outputs": [
    {
     "data": {
      "text/plain": [
       "<function timedelta.total_seconds>"
      ]
     },
     "execution_count": 24,
     "metadata": {},
     "output_type": "execute_result"
    }
   ],
   "source": [
    "gap.total_seconds"
   ]
  },
  {
   "cell_type": "code",
   "execution_count": 25,
   "id": "e6e0df9a",
   "metadata": {},
   "outputs": [
    {
     "data": {
      "text/plain": [
       "0.225673"
      ]
     },
     "execution_count": 25,
     "metadata": {},
     "output_type": "execute_result"
    }
   ],
   "source": [
    "gap.total_seconds()"
   ]
  },
  {
   "cell_type": "markdown",
   "id": "65828b02",
   "metadata": {},
   "source": [
    "# When you subtract one datetime.datetime object from another, the value returned is an object of type datetime.timedelta. "
   ]
  },
  {
   "cell_type": "code",
   "execution_count": 26,
   "id": "3d9a4f98",
   "metadata": {},
   "outputs": [],
   "source": [
    "#t=True\n",
    "#while t:\n",
    "#    print(datetime.datetime.now())\n"
   ]
  },
  {
   "cell_type": "markdown",
   "id": "33c3a755",
   "metadata": {},
   "source": [
    "# parsing a string into a date and time,,,method name only refers to time, but as you’re using the datetime module, this method deals with both dates and times.\n",
    "\n",
    "strptime\n",
    "strftime >>>>>>>>This method is an instance method. the full signature of this method is strftime(self, format)"
   ]
  },
  {
   "cell_type": "code",
   "execution_count": 27,
   "id": "39d39bee",
   "metadata": {},
   "outputs": [],
   "source": [
    ">>> date_v1 = \"20/02/1991\""
   ]
  },
  {
   "cell_type": "code",
   "execution_count": 28,
   "id": "04ccf6ca",
   "metadata": {},
   "outputs": [
    {
     "data": {
      "text/plain": [
       "datetime.datetime(1991, 2, 20, 0, 0)"
      ]
     },
     "execution_count": 28,
     "metadata": {},
     "output_type": "execute_result"
    }
   ],
   "source": [
    ">>> datetime.datetime.strptime(date_v1, \"%d/%m/%Y\")\n",
    "datetime.datetime(1991, 2, 20, 0, 0)"
   ]
  },
  {
   "cell_type": "code",
   "execution_count": 29,
   "id": "8fa8f60b",
   "metadata": {},
   "outputs": [],
   "source": [
    "date1=\"19-sep-2001\" # sept throws error beacause only  word abbervatio allowed"
   ]
  },
  {
   "cell_type": "code",
   "execution_count": 30,
   "id": "2d84aab3",
   "metadata": {},
   "outputs": [],
   "source": [
    "c=datetime.datetime.strptime(date1,\"%d-%b-%Y\")"
   ]
  },
  {
   "cell_type": "markdown",
   "id": "699864ef",
   "metadata": {},
   "source": [
    "# strptime() is a class method that’s bound to the class rather than to individual instances of the class. "
   ]
  },
  {
   "cell_type": "code",
   "execution_count": 31,
   "id": "1f063520",
   "metadata": {},
   "outputs": [],
   "source": [
    "d2=\"september,19,2001\""
   ]
  },
  {
   "cell_type": "code",
   "execution_count": 32,
   "id": "18b990fd",
   "metadata": {},
   "outputs": [],
   "source": [
    "d3=\"23,09,2000\"\n"
   ]
  },
  {
   "cell_type": "code",
   "execution_count": 33,
   "id": "b77faaed",
   "metadata": {},
   "outputs": [],
   "source": [
    "d_2= datetime.datetime.strptime(d2,\"%B,%d,%Y\")"
   ]
  },
  {
   "cell_type": "code",
   "execution_count": 34,
   "id": "3131d841",
   "metadata": {},
   "outputs": [
    {
     "data": {
      "text/plain": [
       "datetime.datetime(2001, 9, 19, 0, 0)"
      ]
     },
     "execution_count": 34,
     "metadata": {},
     "output_type": "execute_result"
    }
   ],
   "source": [
    "d_2"
   ]
  },
  {
   "cell_type": "code",
   "execution_count": 35,
   "id": "7e2d42d8",
   "metadata": {},
   "outputs": [
    {
     "data": {
      "text/plain": [
       "True"
      ]
     },
     "execution_count": 35,
     "metadata": {},
     "output_type": "execute_result"
    }
   ],
   "source": [
    "c==d_2"
   ]
  },
  {
   "cell_type": "code",
   "execution_count": 36,
   "id": "40385c21",
   "metadata": {},
   "outputs": [
    {
     "data": {
      "text/plain": [
       "False"
      ]
     },
     "execution_count": 36,
     "metadata": {},
     "output_type": "execute_result"
    }
   ],
   "source": [
    "date1==d_2"
   ]
  },
  {
   "cell_type": "code",
   "execution_count": 37,
   "id": "6e03edb9",
   "metadata": {},
   "outputs": [
    {
     "data": {
      "text/plain": [
       "datetime.datetime(2008, 12, 3, 0, 0)"
      ]
     },
     "execution_count": 37,
     "metadata": {},
     "output_type": "execute_result"
    }
   ],
   "source": [
    ">>> new_date = datetime.datetime(year=2008, month=12, day=3)\n",
    ">>> new_date\n",
    "datetime.datetime(2008, 12, 3, 0, 0)"
   ]
  },
  {
   "cell_type": "code",
   "execution_count": 38,
   "id": "04d3e59f",
   "metadata": {},
   "outputs": [],
   "source": [
    "nd=datetime.datetime(month=9,year=2201,day=12)"
   ]
  },
  {
   "cell_type": "code",
   "execution_count": 39,
   "id": "9469a7e4",
   "metadata": {},
   "outputs": [
    {
     "data": {
      "text/plain": [
       "datetime.datetime(2201, 9, 12, 0, 0)"
      ]
     },
     "execution_count": 39,
     "metadata": {},
     "output_type": "execute_result"
    }
   ],
   "source": [
    "nd"
   ]
  },
  {
   "cell_type": "code",
   "execution_count": 40,
   "id": "8df23bf3",
   "metadata": {},
   "outputs": [
    {
     "data": {
      "text/plain": [
       "'01,Sep,12'"
      ]
     },
     "execution_count": 40,
     "metadata": {},
     "output_type": "execute_result"
    }
   ],
   "source": [
    "datetime.datetime.strftime(nd,\"%y,%b,%d\")"
   ]
  },
  {
   "cell_type": "code",
   "execution_count": 41,
   "id": "197ffbf0",
   "metadata": {},
   "outputs": [
    {
     "data": {
      "text/plain": [
       "'2201,Sep,12'"
      ]
     },
     "execution_count": 41,
     "metadata": {},
     "output_type": "execute_result"
    }
   ],
   "source": [
    "datetime.datetime.strftime(nd,\"%Y,%b,%d\")"
   ]
  },
  {
   "cell_type": "code",
   "execution_count": 42,
   "id": "eace6b53",
   "metadata": {},
   "outputs": [
    {
     "data": {
      "text/plain": [
       "'2201September12'"
      ]
     },
     "execution_count": 42,
     "metadata": {},
     "output_type": "execute_result"
    }
   ],
   "source": [
    "nd.strftime(\"%Y%B%d\")"
   ]
  },
  {
   "cell_type": "code",
   "execution_count": 43,
   "id": "fc67ac8a",
   "metadata": {},
   "outputs": [
    {
     "data": {
      "text/plain": [
       "'09/12/01'"
      ]
     },
     "execution_count": 43,
     "metadata": {},
     "output_type": "execute_result"
    }
   ],
   "source": [
    "nd.strftime(\"%D\")"
   ]
  },
  {
   "cell_type": "code",
   "execution_count": 44,
   "id": "2e067829",
   "metadata": {},
   "outputs": [
    {
     "data": {
      "text/plain": [
       "'the date i studied for the date is is 12 September 2201'"
      ]
     },
     "execution_count": 44,
     "metadata": {},
     "output_type": "execute_result"
    }
   ],
   "source": [
    "nd.strftime(\"the date i studied for the date is is %d %B %Y\")"
   ]
  },
  {
   "cell_type": "code",
   "execution_count": 45,
   "id": "a06c7755",
   "metadata": {},
   "outputs": [
    {
     "data": {
      "text/plain": [
       "'the date i studied for the date is 2022-01-18 22:55:12.916117'"
      ]
     },
     "execution_count": 45,
     "metadata": {},
     "output_type": "execute_result"
    }
   ],
   "source": [
    "nd.strftime(f\"the date i studied for the date is {datetime.datetime.now()}\")"
   ]
  },
  {
   "cell_type": "code",
   "execution_count": 46,
   "id": "1ffb54cb",
   "metadata": {},
   "outputs": [
    {
     "data": {
      "text/plain": [
       "datetime.timedelta(days=73041)"
      ]
     },
     "execution_count": 46,
     "metadata": {},
     "output_type": "execute_result"
    }
   ],
   "source": [
    "nd-c"
   ]
  },
  {
   "cell_type": "code",
   "execution_count": 47,
   "id": "93389e25",
   "metadata": {},
   "outputs": [
    {
     "data": {
      "text/plain": [
       "datetime.timedelta(days=7426, seconds=82512, microseconds=946297)"
      ]
     },
     "execution_count": 47,
     "metadata": {},
     "output_type": "execute_result"
    }
   ],
   "source": [
    "datetime.datetime.now()-c"
   ]
  },
  {
   "cell_type": "markdown",
   "id": "827ece8e",
   "metadata": {},
   "source": [
    "# The built-in functions str() and repr() return the object’s string representation and object representation, respectively."
   ]
  },
  {
   "cell_type": "code",
   "execution_count": 48,
   "id": "ada6c5ec",
   "metadata": {},
   "outputs": [
    {
     "name": "stdout",
     "output_type": "stream",
     "text": [
      "Enter your date of birth (dd/mm/yyyy): 12/12/1665\n",
      "1665-12-12 00:00:00\n"
     ]
    }
   ],
   "source": [
    "# find_day_of_birth.py\n",
    "\n",
    "import datetime\n",
    "\n",
    "format = \"%d/%m/%Y\"\n",
    "\n",
    "dob = input(\"Enter your date of birth (dd/mm/yyyy): \")\n",
    "dob_as_dt = datetime.datetime.strptime(dob, format)\n",
    "\n",
    "print(dob_as_dt)"
   ]
  },
  {
   "cell_type": "markdown",
   "id": "f05cecb6",
   "metadata": {},
   "source": [
    "When you display the value of an object in the Python Console or other interactive environments, Python displays the object representation. This output is the value returned by repr(), and it’s a string showing information that’s specific to the Python object. It’s aimed at the programmer and not the user of a program."
   ]
  },
  {
   "cell_type": "code",
   "execution_count": 49,
   "id": "b0777063",
   "metadata": {},
   "outputs": [
    {
     "data": {
      "text/plain": [
       "'2008-12-03 00:00:00'"
      ]
     },
     "execution_count": 49,
     "metadata": {},
     "output_type": "execute_result"
    }
   ],
   "source": [
    ">>> new_date = datetime.datetime(year=2008, month=12, day=3)\n",
    ">>> str(new_date)"
   ]
  },
  {
   "cell_type": "code",
   "execution_count": 50,
   "id": "4d3bfc09",
   "metadata": {},
   "outputs": [
    {
     "data": {
      "text/plain": [
       "str"
      ]
     },
     "execution_count": 50,
     "metadata": {},
     "output_type": "execute_result"
    }
   ],
   "source": [
    "type(str(new_date))"
   ]
  },
  {
   "cell_type": "code",
   "execution_count": 51,
   "id": "adf63e8d",
   "metadata": {},
   "outputs": [
    {
     "data": {
      "text/plain": [
       "'datetime.datetime(2008, 12, 3, 0, 0)'"
      ]
     },
     "execution_count": 51,
     "metadata": {},
     "output_type": "execute_result"
    }
   ],
   "source": [
    ">>> repr(new_date)"
   ]
  },
  {
   "cell_type": "code",
   "execution_count": 52,
   "id": "9a47b44c",
   "metadata": {},
   "outputs": [
    {
     "data": {
      "text/plain": [
       "str"
      ]
     },
     "execution_count": 52,
     "metadata": {},
     "output_type": "execute_result"
    }
   ],
   "source": [
    "type(repr(new_date))"
   ]
  },
  {
   "cell_type": "markdown",
   "id": "cc240c46",
   "metadata": {},
   "source": [
    " repr() usually returns a string that shows valid Python syntax, and you can copy and paste this to recreate the object. This information is intended for a programmer who understands Python and not for the user of a program."
   ]
  },
  {
   "cell_type": "markdown",
   "id": "ada67a05",
   "metadata": {},
   "source": [
    "In the datetime module, dates and times that don’t include information about the time zone are called naive objects."
   ]
  },
  {
   "cell_type": "markdown",
   "id": "76215bd6",
   "metadata": {},
   "source": [
    "By default, now() returns a naive object. Therefore, it’s not possible to know what time zone I was in when I created the datetime.datetime object time_now."
   ]
  },
  {
   "cell_type": "markdown",
   "id": "0e899426",
   "metadata": {},
   "source": []
  },
  {
   "cell_type": "markdown",
   "id": "2e5e765b",
   "metadata": {},
   "source": [
    "zoneinfo module follows the Python naming convention: the class name uses upper camel case while the module name is in lowercase."
   ]
  },
  {
   "cell_type": "code",
   "execution_count": 55,
   "id": "e0786a2f",
   "metadata": {},
   "outputs": [
    {
     "ename": "ModuleNotFoundError",
     "evalue": "No module named 'zoneinfo'",
     "output_type": "error",
     "traceback": [
      "\u001b[1;31m---------------------------------------------------------------------------\u001b[0m",
      "\u001b[1;31mModuleNotFoundError\u001b[0m                       Traceback (most recent call last)",
      "\u001b[1;32m~\\AppData\\Local\\Temp/ipykernel_25444/2825676116.py\u001b[0m in \u001b[0;36m<module>\u001b[1;34m\u001b[0m\n\u001b[1;32m----> 1\u001b[1;33m \u001b[1;32mimport\u001b[0m \u001b[0mzoneinfo\u001b[0m\u001b[1;33m\u001b[0m\u001b[1;33m\u001b[0m\u001b[0m\n\u001b[0m\u001b[0;32m      2\u001b[0m \u001b[0mzoneinfo\u001b[0m\u001b[1;33m.\u001b[0m\u001b[0mZoneInfo\u001b[0m\u001b[1;33m(\u001b[0m\u001b[1;34m\"India\"\u001b[0m\u001b[1;33m)\u001b[0m\u001b[1;33m\u001b[0m\u001b[1;33m\u001b[0m\u001b[0m\n",
      "\u001b[1;31mModuleNotFoundError\u001b[0m: No module named 'zoneinfo'"
     ]
    }
   ],
   "source": [
    "import zoneinfo\n",
    "zoneinfo.ZoneInfo(\"India\")"
   ]
  },
  {
   "cell_type": "code",
   "execution_count": null,
   "id": "f707b8eb",
   "metadata": {},
   "outputs": [],
   "source": [
    "# using_time_zones.py\n",
    "\n",
    "import datetime\n",
    "import zoneinfo\n",
    "\n",
    "london_now = datetime.datetime.now(zoneinfo.ZoneInfo(\"Europe/London\"))\n",
    "\n",
    "print(\"London time zone\")\n",
    "print(london_now)\n",
    "print(repr(london_now))"
   ]
  },
  {
   "cell_type": "code",
   "execution_count": 69,
   "id": "725570dc",
   "metadata": {
    "scrolled": true
   },
   "outputs": [
    {
     "name": "stdout",
     "output_type": "stream",
     "text": [
      "Hello Adam\n",
      "<__main__.Person object at 0x0000027FDED36C70>\n"
     ]
    }
   ],
   "source": [
    "class Person:\n",
    "    name = 'Adam'\n",
    "\n",
    "    #def __repr__(self):\n",
    "       # return repr('Hello ' + self.name )\n",
    "    def __str__(self):\n",
    "        return str('Hello ' + self.name )\n",
    "\n",
    "print(str(Person()))\n",
    "\n",
    "print(repr(Person()))"
   ]
  },
  {
   "cell_type": "code",
   "execution_count": 68,
   "id": "bfaf511e",
   "metadata": {},
   "outputs": [
    {
     "data": {
      "text/plain": [
       "str"
      ]
     },
     "execution_count": 68,
     "metadata": {},
     "output_type": "execute_result"
    }
   ],
   "source": [
    "type(repr(Person()))"
   ]
  },
  {
   "cell_type": "code",
   "execution_count": 71,
   "id": "cbeb3ede",
   "metadata": {},
   "outputs": [
    {
     "name": "stdout",
     "output_type": "stream",
     "text": [
      "PythonGeeks\n"
     ]
    }
   ],
   "source": [
    "website = \"PythonGeeks\"\n",
    "print(eval(repr(website)))"
   ]
  },
  {
   "cell_type": "code",
   "execution_count": 72,
   "id": "7ca45817",
   "metadata": {},
   "outputs": [
    {
     "ename": "NameError",
     "evalue": "name 'PythonGeeks' is not defined",
     "output_type": "error",
     "traceback": [
      "\u001b[1;31m---------------------------------------------------------------------------\u001b[0m",
      "\u001b[1;31mNameError\u001b[0m                                 Traceback (most recent call last)",
      "\u001b[1;32m~\\AppData\\Local\\Temp/ipykernel_25444/2001181282.py\u001b[0m in \u001b[0;36m<module>\u001b[1;34m\u001b[0m\n\u001b[0;32m      1\u001b[0m \u001b[0mwebsite\u001b[0m \u001b[1;33m=\u001b[0m \u001b[1;34m\"PythonGeeks\"\u001b[0m\u001b[1;33m\u001b[0m\u001b[1;33m\u001b[0m\u001b[0m\n\u001b[1;32m----> 2\u001b[1;33m \u001b[0mprint\u001b[0m\u001b[1;33m(\u001b[0m\u001b[0meval\u001b[0m\u001b[1;33m(\u001b[0m\u001b[0mstr\u001b[0m\u001b[1;33m(\u001b[0m\u001b[0mwebsite\u001b[0m\u001b[1;33m)\u001b[0m\u001b[1;33m)\u001b[0m\u001b[1;33m)\u001b[0m\u001b[1;33m\u001b[0m\u001b[1;33m\u001b[0m\u001b[0m\n\u001b[0m",
      "\u001b[1;32m<string>\u001b[0m in \u001b[0;36m<module>\u001b[1;34m\u001b[0m\n",
      "\u001b[1;31mNameError\u001b[0m: name 'PythonGeeks' is not defined"
     ]
    }
   ],
   "source": [
    "website = \"PythonGeeks\"\n",
    "print(eval(str(website)))"
   ]
  },
  {
   "cell_type": "code",
   "execution_count": 70,
   "id": "8a762fb2",
   "metadata": {},
   "outputs": [
    {
     "name": "stdout",
     "output_type": "stream",
     "text": [
      "15\n"
     ]
    }
   ],
   "source": [
    "\n",
    "x = lambda a : a + 10\n",
    "print(x(5))"
   ]
  },
  {
   "cell_type": "code",
   "execution_count": 73,
   "id": "3cb3bfc0",
   "metadata": {},
   "outputs": [
    {
     "name": "stdout",
     "output_type": "stream",
     "text": [
      "Invoked __repr__()\n",
      "Invoked __repr__()\n"
     ]
    }
   ],
   "source": [
    "class Vehicle:\n",
    "   def __repr__(self):\n",
    "       return \"Invoked __repr__()\"\n",
    "\n",
    "car = Vehicle()\n",
    "print(repr(car))\n",
    "print(str(car))"
   ]
  },
  {
   "cell_type": "code",
   "execution_count": null,
   "id": "c63d1355",
   "metadata": {},
   "outputs": [],
   "source": [
    "class Website:\n",
    "\n",
    "   def __init__(self, name, domain):\n",
    "       self.name = name\n",
    "       self.domain = domain\n",
    "\n",
    "   def __repr__(self):\n",
    "       return f\"Website({self.name}, {self.domain})\"\n",
    "\n",
    "   def __str__(self):\n",
    "       return f\"Website is {self.name}.{self.domain}\"\n",
    "\n",
    "website1 = Website(\"PythonGeeks\", \"com\")\n",
    "print(repr(website1))\n",
    "print(str(website1))"
   ]
  },
  {
   "cell_type": "markdown",
   "id": "f95d8c5b",
   "metadata": {},
   "source": [
    "repr()\t\\\\str()\n",
    "Clearer and unambiguous \t\\\\  More easily readable\n",
    "Better choice for debugging \\\\\tTypically not preferred for debugging\n",
    "Can be passed to eval() \\\\\tPassing to eval() raises an error\n",
    "Invokes __repr__()\t\\\\ Invokes __str__()"
   ]
  },
  {
   "cell_type": "code",
   "execution_count": 74,
   "id": "2ce30d7f",
   "metadata": {},
   "outputs": [
    {
     "name": "stdout",
     "output_type": "stream",
     "text": [
      "0.18181818181818182\n"
     ]
    }
   ],
   "source": [
    "print (repr(2.0/11.0))"
   ]
  },
  {
   "cell_type": "code",
   "execution_count": 75,
   "id": "bd664173",
   "metadata": {},
   "outputs": [
    {
     "name": "stdout",
     "output_type": "stream",
     "text": [
      "0.18181818181818182\n"
     ]
    }
   ],
   "source": [
    "print (str(2.0/11.0))"
   ]
  },
  {
   "cell_type": "code",
   "execution_count": 76,
   "id": "d8dceb8a",
   "metadata": {},
   "outputs": [
    {
     "ename": "TypeError",
     "evalue": "unsupported operand type(s) for +: 'int' and 'str'",
     "output_type": "error",
     "traceback": [
      "\u001b[1;31m---------------------------------------------------------------------------\u001b[0m",
      "\u001b[1;31mTypeError\u001b[0m                                 Traceback (most recent call last)",
      "\u001b[1;32m~\\AppData\\Local\\Temp/ipykernel_25444/263103375.py\u001b[0m in \u001b[0;36m<module>\u001b[1;34m\u001b[0m\n\u001b[1;32m----> 1\u001b[1;33m \u001b[1;36m10\u001b[0m\u001b[1;33m+\u001b[0m\u001b[0mrepr\u001b[0m\u001b[1;33m(\u001b[0m\u001b[1;36m2.0\u001b[0m\u001b[1;33m/\u001b[0m\u001b[1;36m11.0\u001b[0m\u001b[1;33m)\u001b[0m\u001b[1;33m\u001b[0m\u001b[1;33m\u001b[0m\u001b[0m\n\u001b[0m",
      "\u001b[1;31mTypeError\u001b[0m: unsupported operand type(s) for +: 'int' and 'str'"
     ]
    }
   ],
   "source": [
    "10+repr(2.0/11.0)"
   ]
  }
 ],
 "metadata": {
  "kernelspec": {
   "display_name": "Python 3 (ipykernel)",
   "language": "python",
   "name": "python3"
  },
  "language_info": {
   "codemirror_mode": {
    "name": "ipython",
    "version": 3
   },
   "file_extension": ".py",
   "mimetype": "text/x-python",
   "name": "python",
   "nbconvert_exporter": "python",
   "pygments_lexer": "ipython3",
   "version": "3.8.8"
  }
 },
 "nbformat": 4,
 "nbformat_minor": 5
}
